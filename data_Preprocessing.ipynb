{
 "cells": [
  {
   "cell_type": "markdown",
   "id": "cc4fc664",
   "metadata": {},
   "source": [
    "# WORKFLOW Data Preprocessing Summary\n",
    "\n",
    "1. LOAD original dataset:\n",
    "2. DATA CLEANING:\n",
    "\n",
    "Tools:\n",
    "* Panda -> load data, manipulate data, create new features\n",
    "\n",
    "Output:\n",
    "data -> Cleaned_HouseListings-Top45Cities.csv"
   ]
  },
  {
   "cell_type": "markdown",
   "id": "2e6dd69d",
   "metadata": {},
   "source": [
    "1. LOAD original dataset locally:\n",
    "* Download dataset on work directory and install pandas library."
   ]
  },
  {
   "cell_type": "code",
   "execution_count": 185,
   "id": "299535f7",
   "metadata": {},
   "outputs": [],
   "source": [
    "import pandas as pd\n",
    "# Set the file path (ensure the CSV file is in the correct folder)\n",
    "file_path = \"HouseListings-Top45Cities-10292023-kaggle.csv\"\n",
    "\n",
    "# Load the dataset\n",
    "data = pd.read_csv(file_path, encoding='latin-1')"
   ]
  },
  {
   "cell_type": "markdown",
   "id": "64e30261",
   "metadata": {},
   "source": [
    "2.  DATA CLEAN: \n",
    "* Preview data to check Number of NaN values: 0 and Number of duplicated rows"
   ]
  },
  {
   "cell_type": "code",
   "execution_count": 186,
   "id": "1709edb3",
   "metadata": {},
   "outputs": [
    {
     "name": "stdout",
     "output_type": "stream",
     "text": [
      "Dataset preview:\n",
      "      City      Price                  Address  Number_Beds  Number_Baths  \\\n",
      "0  Toronto   779900.0    #318 -20 SOUTHPORT ST            3             2   \n",
      "1  Toronto   799999.0    #818 -60 SOUTHPORT ST            3             1   \n",
      "2  Toronto   799900.0  #714 -859 THE QUEENSWAY            2             2   \n",
      "3  Toronto  1200000.0         275 MORTIMER AVE            4             2   \n",
      "4  Toronto   668800.0    #420 -388 RICHMOND ST            1             1   \n",
      "\n",
      "  Province  Population  Latitude  Longitude  Median_Family_Income  \n",
      "0  Ontario     5647656   43.7417   -79.3733               97000.0  \n",
      "1  Ontario     5647656   43.7417   -79.3733               97000.0  \n",
      "2  Ontario     5647656   43.7417   -79.3733               97000.0  \n",
      "3  Ontario     5647656   43.7417   -79.3733               97000.0  \n",
      "4  Ontario     5647656   43.7417   -79.3733               97000.0  \n"
     ]
    }
   ],
   "source": [
    "# Preview the first few rows\n",
    "print(\"Dataset preview:\")\n",
    "print(data.head())"
   ]
  },
  {
   "cell_type": "code",
   "execution_count": 187,
   "id": "44684c04",
   "metadata": {},
   "outputs": [
    {
     "name": "stdout",
     "output_type": "stream",
     "text": [
      "\n",
      "Dataset info:\n",
      "<class 'pandas.core.frame.DataFrame'>\n",
      "RangeIndex: 35768 entries, 0 to 35767\n",
      "Data columns (total 10 columns):\n",
      " #   Column                Non-Null Count  Dtype  \n",
      "---  ------                --------------  -----  \n",
      " 0   City                  35768 non-null  object \n",
      " 1   Price                 35768 non-null  float64\n",
      " 2   Address               35768 non-null  object \n",
      " 3   Number_Beds           35768 non-null  int64  \n",
      " 4   Number_Baths          35768 non-null  int64  \n",
      " 5   Province              35768 non-null  object \n",
      " 6   Population            35768 non-null  int64  \n",
      " 7   Latitude              35768 non-null  float64\n",
      " 8   Longitude             35768 non-null  float64\n",
      " 9   Median_Family_Income  35768 non-null  float64\n",
      "dtypes: float64(4), int64(3), object(3)\n",
      "memory usage: 2.7+ MB\n",
      "None\n",
      "Number of NaN values: 0\n",
      "Number of duplicated rows: 2516\n"
     ]
    }
   ],
   "source": [
    "# Display data types, non-null counts, and duplicated rows\n",
    "print(\"\\nDataset info:\")\n",
    "print(data.info())\n",
    "\n",
    "print(\"Number of NaN values:\",data.isna().sum().sum())\n",
    "print(\"Number of duplicated rows:\",data.duplicated().sum())"
   ]
  },
  {
   "cell_type": "markdown",
   "id": "38f0a078",
   "metadata": {},
   "source": [
    "2.  DATA CLEAN: \n",
    "* Drop duplicate rows"
   ]
  },
  {
   "cell_type": "code",
   "execution_count": 188,
   "id": "046560a1",
   "metadata": {},
   "outputs": [
    {
     "data": {
      "text/html": [
       "<div>\n",
       "<style scoped>\n",
       "    .dataframe tbody tr th:only-of-type {\n",
       "        vertical-align: middle;\n",
       "    }\n",
       "\n",
       "    .dataframe tbody tr th {\n",
       "        vertical-align: top;\n",
       "    }\n",
       "\n",
       "    .dataframe thead th {\n",
       "        text-align: right;\n",
       "    }\n",
       "</style>\n",
       "<table border=\"1\" class=\"dataframe\">\n",
       "  <thead>\n",
       "    <tr style=\"text-align: right;\">\n",
       "      <th></th>\n",
       "      <th>City</th>\n",
       "      <th>Price</th>\n",
       "      <th>Address</th>\n",
       "      <th>Number_Beds</th>\n",
       "      <th>Number_Baths</th>\n",
       "      <th>Province</th>\n",
       "      <th>Population</th>\n",
       "      <th>Latitude</th>\n",
       "      <th>Longitude</th>\n",
       "      <th>Median_Family_Income</th>\n",
       "    </tr>\n",
       "  </thead>\n",
       "  <tbody>\n",
       "    <tr>\n",
       "      <th>17755</th>\n",
       "      <td>Barrie</td>\n",
       "      <td>649000.0</td>\n",
       "      <td>#A109 -241 SEA RAY AVE</td>\n",
       "      <td>2</td>\n",
       "      <td>1</td>\n",
       "      <td>Ontario</td>\n",
       "      <td>154676</td>\n",
       "      <td>44.3711</td>\n",
       "      <td>-79.6769</td>\n",
       "      <td>97000.0</td>\n",
       "    </tr>\n",
       "    <tr>\n",
       "      <th>27540</th>\n",
       "      <td>Maple Ridge</td>\n",
       "      <td>1161900.0</td>\n",
       "      <td>117-3420 QUEENSTON AVENUE</td>\n",
       "      <td>4</td>\n",
       "      <td>3</td>\n",
       "      <td>British Columbia</td>\n",
       "      <td>90990</td>\n",
       "      <td>49.2167</td>\n",
       "      <td>-122.6000</td>\n",
       "      <td>105000.0</td>\n",
       "    </tr>\n",
       "    <tr>\n",
       "      <th>25654</th>\n",
       "      <td>White Rock</td>\n",
       "      <td>5988000.0</td>\n",
       "      <td>13585 28 AVENUE</td>\n",
       "      <td>7</td>\n",
       "      <td>8</td>\n",
       "      <td>British Columbia</td>\n",
       "      <td>109167</td>\n",
       "      <td>49.0250</td>\n",
       "      <td>-122.8028</td>\n",
       "      <td>73000.0</td>\n",
       "    </tr>\n",
       "    <tr>\n",
       "      <th>18019</th>\n",
       "      <td>Barrie</td>\n",
       "      <td>1599000.0</td>\n",
       "      <td>114 BEARBERRY RD</td>\n",
       "      <td>5</td>\n",
       "      <td>6</td>\n",
       "      <td>Ontario</td>\n",
       "      <td>154676</td>\n",
       "      <td>44.3711</td>\n",
       "      <td>-79.6769</td>\n",
       "      <td>97000.0</td>\n",
       "    </tr>\n",
       "    <tr>\n",
       "      <th>9178</th>\n",
       "      <td>Kitchener</td>\n",
       "      <td>1149900.0</td>\n",
       "      <td>19 SEATON CRES</td>\n",
       "      <td>3</td>\n",
       "      <td>2</td>\n",
       "      <td>Ontario</td>\n",
       "      <td>522888</td>\n",
       "      <td>43.4186</td>\n",
       "      <td>-80.4728</td>\n",
       "      <td>92000.0</td>\n",
       "    </tr>\n",
       "  </tbody>\n",
       "</table>\n",
       "</div>"
      ],
      "text/plain": [
       "              City      Price                    Address  Number_Beds  \\\n",
       "17755       Barrie   649000.0     #A109 -241 SEA RAY AVE            2   \n",
       "27540  Maple Ridge  1161900.0  117-3420 QUEENSTON AVENUE            4   \n",
       "25654   White Rock  5988000.0            13585 28 AVENUE            7   \n",
       "18019       Barrie  1599000.0           114 BEARBERRY RD            5   \n",
       "9178     Kitchener  1149900.0             19 SEATON CRES            3   \n",
       "\n",
       "       Number_Baths          Province  Population  Latitude  Longitude  \\\n",
       "17755             1           Ontario      154676   44.3711   -79.6769   \n",
       "27540             3  British Columbia       90990   49.2167  -122.6000   \n",
       "25654             8  British Columbia      109167   49.0250  -122.8028   \n",
       "18019             6           Ontario      154676   44.3711   -79.6769   \n",
       "9178              2           Ontario      522888   43.4186   -80.4728   \n",
       "\n",
       "       Median_Family_Income  \n",
       "17755               97000.0  \n",
       "27540              105000.0  \n",
       "25654               73000.0  \n",
       "18019               97000.0  \n",
       "9178                92000.0  "
      ]
     },
     "execution_count": 188,
     "metadata": {},
     "output_type": "execute_result"
    }
   ],
   "source": [
    "# Function to drop duplicate rows\n",
    "def cleaning(Data):\n",
    "    Data.drop_duplicates(inplace=True)\n",
    "    Data.reset_index(drop=True, inplace=True)\n",
    "    return Data\n",
    "\n",
    "# Apply the cleaning function and display a random sample of 5 rows\n",
    "cleaning(data).sample(5)"
   ]
  },
  {
   "cell_type": "markdown",
   "id": "2be4ebf4",
   "metadata": {},
   "source": [
    "2.  DATA CLEAN: \n",
    "* Improve consistency on province name using abbreviations for each province:\n",
    "- `ON` for Ontario  \n",
    "- `BC` for British Columbia  \n",
    "- `QC` for Quebec  \n",
    "- `AB` for Alberta"
   ]
  },
  {
   "cell_type": "code",
   "execution_count": 189,
   "id": "34420f18",
   "metadata": {},
   "outputs": [],
   "source": [
    "# Get province names and define standardized abbreviations for provinces\n",
    "dataframe_province_name = data['Province'].unique()\n",
    "Province_Abbrev_list = [\"ON\", \"BC\", \"AB\", \"MB\", \"SK\", \"NL\", \"NB\", \"QC\", \"NS\"]"
   ]
  },
  {
   "cell_type": "code",
   "execution_count": 190,
   "id": "8e0cf7a8",
   "metadata": {},
   "outputs": [],
   "source": [
    "# Create a dictionary from province names to abbreviations and replace in the dataset\n",
    "dict_province_name = dict(zip(dataframe_province_name,Province_Abbrev_list))\n",
    "\n",
    "for values, keys in dict_province_name.items():\n",
    "   data.replace({\"Province\": {values: keys}} ,inplace = True)"
   ]
  },
  {
   "cell_type": "code",
   "execution_count": 191,
   "id": "40e692d2",
   "metadata": {},
   "outputs": [
    {
     "data": {
      "text/plain": [
       "array(['ON', 'BC', 'AB', 'MB', 'SK', 'NL', 'NB', 'QC', 'NS'], dtype=object)"
      ]
     },
     "execution_count": 191,
     "metadata": {},
     "output_type": "execute_result"
    }
   ],
   "source": [
    "# Verify that province names were successfully converted to abbreviations\n",
    "data[\"Province\"].unique()"
   ]
  },
  {
   "cell_type": "code",
   "execution_count": 192,
   "id": "37356ba6",
   "metadata": {},
   "outputs": [
    {
     "data": {
      "text/plain": [
       "City\n",
       "Caledon             1331\n",
       "London              1311\n",
       "Toronto             1274\n",
       "Hamilton            1266\n",
       "St. Catharines      1259\n",
       "Kitchener           1161\n",
       "Ottawa              1093\n",
       "Oshawa              1079\n",
       "Barrie              1000\n",
       "Windsor              718\n",
       "Brantford            617\n",
       "Kingston             471\n",
       "Guelph               434\n",
       "Peterborough         305\n",
       "Sudbury              202\n",
       "Sault Ste. Marie     165\n",
       "Thunder Bay          154\n",
       "Saskatoon              4\n",
       "Winnipeg               1\n",
       "Regina                 1\n",
       "Nanaimo                1\n",
       "Name: count, dtype: int64"
      ]
     },
     "execution_count": 192,
     "metadata": {},
     "output_type": "execute_result"
    }
   ],
   "source": [
    "# Check the number of listings per city in Ontario\n",
    "data[data[\"Province\"] == \"ON\"].City.value_counts()"
   ]
  },
  {
   "cell_type": "code",
   "execution_count": 193,
   "id": "e53b6cc6",
   "metadata": {},
   "outputs": [
    {
     "data": {
      "text/plain": [
       "City\n",
       "St. John's    652\n",
       "Nanaimo         3\n",
       "Name: count, dtype: int64"
      ]
     },
     "execution_count": 193,
     "metadata": {},
     "output_type": "execute_result"
    }
   ],
   "source": [
    "# Check the number of listings per city in Newfoundland and Labrador\n",
    "data[data[\"Province\"] == \"NL\"].City.value_counts()"
   ]
  },
  {
   "cell_type": "markdown",
   "id": "2724b9c7",
   "metadata": {},
   "source": [
    "2.  DATA CLEAN: \n",
    "* Correction about some cities were mistakenly assigned to the wrong provinces.\n",
    "- `Winnipeg` was under Ontario.\n",
    "- `Regina` and `Saskatoon` were under Ontario\n",
    "- `Nanaimo` was under Ontario.\n",
    "- `Nanaimo` was under NL."
   ]
  },
  {
   "cell_type": "code",
   "execution_count": 194,
   "id": "38be14da",
   "metadata": {},
   "outputs": [
    {
     "data": {
      "text/plain": [
       "City\n",
       "Caledon             1331\n",
       "London              1311\n",
       "Toronto             1274\n",
       "Hamilton            1266\n",
       "St. Catharines      1259\n",
       "Kitchener           1161\n",
       "Ottawa              1093\n",
       "Oshawa              1079\n",
       "Barrie              1000\n",
       "Windsor              718\n",
       "Brantford            617\n",
       "Kingston             471\n",
       "Guelph               434\n",
       "Peterborough         305\n",
       "Sudbury              202\n",
       "Sault Ste. Marie     165\n",
       "Thunder Bay          154\n",
       "Name: count, dtype: int64"
      ]
     },
     "execution_count": 194,
     "metadata": {},
     "output_type": "execute_result"
    }
   ],
   "source": [
    "# Correct mislabeled cities that were wrongly assigned to Ontario\n",
    "ontario = data[data.loc[:,\"Province\"]==\"ON\"]\n",
    "index1 = ontario[ontario.City == \"Winnipeg\"].index\n",
    "index2 = ontario[ontario.City == \"Regina\"].index\n",
    "index3 = ontario[ontario.City == \"Saskatoon\"].index\n",
    "index4 = ontario[ontario.City == \"Nanaimo\"].index\n",
    "\n",
    "# Reassign correct provinces for those cities\n",
    "data.loc[index1,\"Province\"] = \"MB\"\n",
    "data.loc[index2,\"Province\"] = \"SK\"\n",
    "data.loc[index3,\"Province\"] = \"SK\"\n",
    "data.loc[index4,\"Province\"] = \"BC\"\n",
    "\n",
    "# Correct mislabeled city in Newfoundland and Labrador\n",
    "Newfoundland = data[data.loc[:,\"Province\"]==\"NL\"]\n",
    "index5 = Newfoundland[Newfoundland.City == \"Nanaimo\"].index\n",
    "data.loc[index5,\"Province\"] = \"BC\"\n",
    "\n",
    "# Confirm that only valid cities remain in Ontario\n",
    "data[data[\"Province\"]==\"ON\"].City.value_counts()"
   ]
  },
  {
   "cell_type": "code",
   "execution_count": 195,
   "id": "32f51907",
   "metadata": {},
   "outputs": [
    {
     "data": {
      "text/plain": [
       "City\n",
       "St. John's    652\n",
       "Name: count, dtype: int64"
      ]
     },
     "execution_count": 195,
     "metadata": {},
     "output_type": "execute_result"
    }
   ],
   "source": [
    "# Confirm that only valid cities remain in NL\n",
    "data[data[\"Province\"]==\"NL\"].City.value_counts()"
   ]
  },
  {
   "cell_type": "markdown",
   "id": "e247ac0f",
   "metadata": {},
   "source": [
    "2.  DATA CLEAN: \n",
    "* Review and correction of longitude value for Nova Scotia (NS), which was negative (`-63.1005`)."
   ]
  },
  {
   "cell_type": "code",
   "execution_count": 196,
   "id": "0a570226",
   "metadata": {},
   "outputs": [
    {
     "data": {
      "text/html": [
       "<div>\n",
       "<style scoped>\n",
       "    .dataframe tbody tr th:only-of-type {\n",
       "        vertical-align: middle;\n",
       "    }\n",
       "\n",
       "    .dataframe tbody tr th {\n",
       "        vertical-align: top;\n",
       "    }\n",
       "\n",
       "    .dataframe thead th {\n",
       "        text-align: right;\n",
       "    }\n",
       "</style>\n",
       "<table border=\"1\" class=\"dataframe\">\n",
       "  <thead>\n",
       "    <tr style=\"text-align: right;\">\n",
       "      <th></th>\n",
       "      <th>Latitude</th>\n",
       "      <th>Longitude</th>\n",
       "    </tr>\n",
       "    <tr>\n",
       "      <th>Province</th>\n",
       "      <th></th>\n",
       "      <th></th>\n",
       "    </tr>\n",
       "  </thead>\n",
       "  <tbody>\n",
       "    <tr>\n",
       "      <th>AB</th>\n",
       "      <td>51.830823</td>\n",
       "      <td>-113.476187</td>\n",
       "    </tr>\n",
       "    <tr>\n",
       "      <th>BC</th>\n",
       "      <td>49.360071</td>\n",
       "      <td>-122.471522</td>\n",
       "    </tr>\n",
       "    <tr>\n",
       "      <th>MB</th>\n",
       "      <td>49.884400</td>\n",
       "      <td>-97.146400</td>\n",
       "    </tr>\n",
       "    <tr>\n",
       "      <th>NB</th>\n",
       "      <td>45.829295</td>\n",
       "      <td>-65.236060</td>\n",
       "    </tr>\n",
       "    <tr>\n",
       "      <th>NL</th>\n",
       "      <td>47.481700</td>\n",
       "      <td>-52.797100</td>\n",
       "    </tr>\n",
       "    <tr>\n",
       "      <th>NS</th>\n",
       "      <td>44.885700</td>\n",
       "      <td>63.100500</td>\n",
       "    </tr>\n",
       "    <tr>\n",
       "      <th>ON</th>\n",
       "      <td>43.797066</td>\n",
       "      <td>-79.740088</td>\n",
       "    </tr>\n",
       "    <tr>\n",
       "      <th>QC</th>\n",
       "      <td>46.014270</td>\n",
       "      <td>-72.219817</td>\n",
       "    </tr>\n",
       "    <tr>\n",
       "      <th>SK</th>\n",
       "      <td>51.269237</td>\n",
       "      <td>-105.614365</td>\n",
       "    </tr>\n",
       "  </tbody>\n",
       "</table>\n",
       "</div>"
      ],
      "text/plain": [
       "           Latitude   Longitude\n",
       "Province                       \n",
       "AB        51.830823 -113.476187\n",
       "BC        49.360071 -122.471522\n",
       "MB        49.884400  -97.146400\n",
       "NB        45.829295  -65.236060\n",
       "NL        47.481700  -52.797100\n",
       "NS        44.885700   63.100500\n",
       "ON        43.797066  -79.740088\n",
       "QC        46.014270  -72.219817\n",
       "SK        51.269237 -105.614365"
      ]
     },
     "execution_count": 196,
     "metadata": {},
     "output_type": "execute_result"
    }
   ],
   "source": [
    "# Get the average latitude and longitude of each province\n",
    "data.groupby(\"Province\")[[\"Latitude\",\"Longitude\"]].mean()"
   ]
  },
  {
   "cell_type": "code",
   "execution_count": 197,
   "id": "09f50334",
   "metadata": {},
   "outputs": [
    {
     "data": {
      "text/html": [
       "<div>\n",
       "<style scoped>\n",
       "    .dataframe tbody tr th:only-of-type {\n",
       "        vertical-align: middle;\n",
       "    }\n",
       "\n",
       "    .dataframe tbody tr th {\n",
       "        vertical-align: top;\n",
       "    }\n",
       "\n",
       "    .dataframe thead th {\n",
       "        text-align: right;\n",
       "    }\n",
       "</style>\n",
       "<table border=\"1\" class=\"dataframe\">\n",
       "  <thead>\n",
       "    <tr style=\"text-align: right;\">\n",
       "      <th></th>\n",
       "      <th>Latitude</th>\n",
       "      <th>Longitude</th>\n",
       "    </tr>\n",
       "    <tr>\n",
       "      <th>Province</th>\n",
       "      <th></th>\n",
       "      <th></th>\n",
       "    </tr>\n",
       "  </thead>\n",
       "  <tbody>\n",
       "    <tr>\n",
       "      <th>AB</th>\n",
       "      <td>51.830823</td>\n",
       "      <td>-113.476187</td>\n",
       "    </tr>\n",
       "    <tr>\n",
       "      <th>BC</th>\n",
       "      <td>49.360071</td>\n",
       "      <td>-122.471522</td>\n",
       "    </tr>\n",
       "    <tr>\n",
       "      <th>MB</th>\n",
       "      <td>49.884400</td>\n",
       "      <td>-97.146400</td>\n",
       "    </tr>\n",
       "    <tr>\n",
       "      <th>NB</th>\n",
       "      <td>45.829295</td>\n",
       "      <td>-65.236060</td>\n",
       "    </tr>\n",
       "    <tr>\n",
       "      <th>NL</th>\n",
       "      <td>47.481700</td>\n",
       "      <td>-52.797100</td>\n",
       "    </tr>\n",
       "    <tr>\n",
       "      <th>NS</th>\n",
       "      <td>44.885700</td>\n",
       "      <td>-63.100500</td>\n",
       "    </tr>\n",
       "    <tr>\n",
       "      <th>ON</th>\n",
       "      <td>43.797066</td>\n",
       "      <td>-79.740088</td>\n",
       "    </tr>\n",
       "    <tr>\n",
       "      <th>QC</th>\n",
       "      <td>46.014270</td>\n",
       "      <td>-72.219817</td>\n",
       "    </tr>\n",
       "    <tr>\n",
       "      <th>SK</th>\n",
       "      <td>51.269237</td>\n",
       "      <td>-105.614365</td>\n",
       "    </tr>\n",
       "  </tbody>\n",
       "</table>\n",
       "</div>"
      ],
      "text/plain": [
       "           Latitude   Longitude\n",
       "Province                       \n",
       "AB        51.830823 -113.476187\n",
       "BC        49.360071 -122.471522\n",
       "MB        49.884400  -97.146400\n",
       "NB        45.829295  -65.236060\n",
       "NL        47.481700  -52.797100\n",
       "NS        44.885700  -63.100500\n",
       "ON        43.797066  -79.740088\n",
       "QC        46.014270  -72.219817\n",
       "SK        51.269237 -105.614365"
      ]
     },
     "execution_count": 197,
     "metadata": {},
     "output_type": "execute_result"
    }
   ],
   "source": [
    "# Correct invalid longitude value for NS (+63.1005 should be -63.1005)\n",
    "data.replace({\"Longitude\": {63.1005: -63.1005}} ,inplace = True)\n",
    "\n",
    "# Confirm the corrected value\n",
    "data.groupby(\"Province\")[[\"Latitude\",\"Longitude\"]].mean()"
   ]
  },
  {
   "cell_type": "markdown",
   "id": "684549e9",
   "metadata": {},
   "source": [
    "2.  DATA CLEAN: \n",
    "* Some of houses with zero bathrooms will be removed from the dataset, as such entries are not realistic or useful for price prediction.\n",
    "\n",
    "* The 'Address' column is removed as it provides no predictive value and is redundant with location data."
   ]
  },
  {
   "cell_type": "code",
   "execution_count": 198,
   "id": "6ceda9f9",
   "metadata": {},
   "outputs": [],
   "source": [
    "# Remove listings with 0 bedrooms\n",
    "data = data[data['Number_Beds'] != 0 ].reset_index(drop = True)\n",
    "#print(\"columnas:\", data.shape)\n",
    "\n",
    "# Drop the 'Address' column\n",
    "data.drop('Address',axis = 1,inplace = True)\n",
    "#print(\"columnas:\", data.shape)"
   ]
  },
  {
   "cell_type": "markdown",
   "id": "e4022d32",
   "metadata": {},
   "source": [
    "# Output:"
   ]
  },
  {
   "cell_type": "code",
   "execution_count": 199,
   "id": "7775b4b5",
   "metadata": {},
   "outputs": [],
   "source": [
    "# Save the cleaned dataset to a CSV file without the index\n",
    "data.to_csv(\"Cleaned_HouseListings-Top45Cities.csv\",index = False)"
   ]
  }
 ],
 "metadata": {
  "kernelspec": {
   "display_name": ".env",
   "language": "python",
   "name": "python3"
  },
  "language_info": {
   "codemirror_mode": {
    "name": "ipython",
    "version": 3
   },
   "file_extension": ".py",
   "mimetype": "text/x-python",
   "name": "python",
   "nbconvert_exporter": "python",
   "pygments_lexer": "ipython3",
   "version": "3.13.4"
  }
 },
 "nbformat": 4,
 "nbformat_minor": 5
}
